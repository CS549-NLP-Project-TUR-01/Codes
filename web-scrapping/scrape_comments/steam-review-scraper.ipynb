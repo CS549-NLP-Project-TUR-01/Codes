{
 "cells": [
  {
   "cell_type": "markdown",
   "metadata": {},
   "source": [
    "# Steam Review Scraper\n",
    "\n",
    "A scraper that scrape reviews within a fixed time interval\n",
    "\n",
    "Using API: https://partner.steamgames.com/doc/store/getreviews"
   ]
  },
  {
   "cell_type": "markdown",
   "metadata": {},
   "source": [
    "## Scrape Reviews"
   ]
  },
  {
   "cell_type": "code",
   "execution_count": 1,
   "metadata": {},
   "outputs": [
    {
     "name": "stdout",
     "output_type": "stream",
     "text": [
      "Requirement already satisfied: requests in a:\\conda\\envs\\tfgpu\\lib\\site-packages (from -r requirements.txt (line 2)) (2.32.3)\n",
      "Requirement already satisfied: charset-normalizer<4,>=2 in a:\\conda\\envs\\tfgpu\\lib\\site-packages (from requests->-r requirements.txt (line 2)) (3.4.1)\n",
      "Requirement already satisfied: idna<4,>=2.5 in a:\\conda\\envs\\tfgpu\\lib\\site-packages (from requests->-r requirements.txt (line 2)) (3.10)\n",
      "Requirement already satisfied: urllib3<3,>=1.21.1 in a:\\conda\\envs\\tfgpu\\lib\\site-packages (from requests->-r requirements.txt (line 2)) (2.3.0)\n",
      "Requirement already satisfied: certifi>=2017.4.17 in a:\\conda\\envs\\tfgpu\\lib\\site-packages (from requests->-r requirements.txt (line 2)) (2025.1.31)\n",
      "Note: you may need to restart the kernel to use updated packages.\n"
     ]
    }
   ],
   "source": [
    "%pip install -r requirements.txt"
   ]
  },
  {
   "cell_type": "code",
   "execution_count": 2,
   "metadata": {},
   "outputs": [],
   "source": [
    "from datetime import datetime, timedelta\n",
    "import requests\n",
    "import pickle\n",
    "from pathlib import Path"
   ]
  },
  {
   "cell_type": "code",
   "execution_count": 23,
   "metadata": {},
   "outputs": [],
   "source": [
    "def get_user_reviews(review_appid, params):\n",
    "\n",
    "    user_review_url = f'https://store.steampowered.com/appreviews/{review_appid}'\n",
    "    req_user_review = requests.get(\n",
    "        user_review_url,\n",
    "        params=params\n",
    "    )\n",
    "\n",
    "    if req_user_review.status_code != 200:\n",
    "        print(f'Fail to get response. Status code: {req_user_review.status_code}')\n",
    "        return {\"success\": 2}\n",
    "    \n",
    "    try:\n",
    "        user_reviews = req_user_review.json()\n",
    "    except:\n",
    "        return {\"success\": 2}\n",
    "\n",
    "    return user_reviews"
   ]
  },
  {
   "cell_type": "code",
   "execution_count": null,
   "metadata": {},
   "outputs": [
    {
     "name": "stdout",
     "output_type": "stream",
     "text": [
      "Start time: 2024-01-01 00:00:00\n",
      "End time: 2025-03-19 00:02:27.100435\n",
      "1704056400.0 1742331747.100435\n",
      "No reviews.\n",
      "{'success': 1, 'query_summary': {'num_reviews': 0, 'review_score': 0, 'review_score_desc': 'No user reviews', 'total_positive': 0, 'total_negative': 0, 'total_reviews': 0}, 'reviews': [], 'cursor': '*'}\n"
     ]
    }
   ],
   "source": [
    "review_appname = \"Broken Sword - Shadow of the Templars: Reforged Soundtrack\"                              # the game name\n",
    "review_appid = 3303470                                      # the game appid on Steam\n",
    "\n",
    "# the params of the API\n",
    "\"\"\"params = {\n",
    "        'json':1,\n",
    "        'language': 'english',\n",
    "        'cursor': '*',                                  # set the cursor to retrieve reviews from a specific \"page\"\n",
    "        'num_per_page': 100,\n",
    "        'filter': 'recent'\n",
    "    }\"\n",
    "\"\"\"\n",
    "params = {\n",
    "        'json':1,\n",
    "        'language': 'turkish',\n",
    "        'cursor': '*',                                  # set the cursor to retrieve reviews from a specific \"page\"\n",
    "        'num_per_page': 100,\n",
    "        'filter': 'recent'\n",
    "    }\n",
    "\n",
    "time_interval = timedelta(hours=24)                         # the time interval to get the reviews\n",
    "# end_time = datetime.fromtimestamp(1716718910)               # the timestamp in the return result are unix timestamp (GMT+0)\n",
    "end_time = datetime.now()\n",
    "# start_time = end_time - time_interval\n",
    "start_time = datetime(2024, 1, 1, 0, 0, 0)\n",
    "\n",
    "print(f\"Start time: {start_time}\")     # printing local timezone for logging\n",
    "print(f\"End time: {end_time}\")\n",
    "print(start_time.timestamp(), end_time.timestamp())\n",
    "\n",
    "passed_start_time = False\n",
    "passed_end_time = False\n",
    "\n",
    "selected_reviews = []\n",
    "\n",
    "while (not passed_start_time or not passed_end_time):\n",
    "\n",
    "    reviews_response = get_user_reviews(review_appid, params)\n",
    "\n",
    "    # not success?\n",
    "    if reviews_response[\"success\"] != 1:\n",
    "        print(\"Not a success\")\n",
    "        print(reviews_response)\n",
    "        break\n",
    "\n",
    "    if reviews_response[\"query_summary\"]['num_reviews'] == 0:\n",
    "        print(\"No reviews.\")\n",
    "        print(reviews_response)\n",
    "        break\n",
    "\n",
    "    for review in reviews_response[\"reviews\"]:\n",
    "        recommendation_id = review['recommendationid']\n",
    "        \n",
    "        timestamp_created = review['timestamp_created']\n",
    "        timestamp_updated = review['timestamp_updated']\n",
    "\n",
    "        # skip the comments that beyond end_time\n",
    "        if not passed_end_time:\n",
    "            if timestamp_created > end_time.timestamp():\n",
    "                continue\n",
    "            else:\n",
    "                passed_end_time = True\n",
    "                \n",
    "        # exit the loop once detected a comment that before start_time\n",
    "        if not passed_start_time:\n",
    "            if timestamp_created < start_time.timestamp():\n",
    "                passed_start_time = True\n",
    "                break\n",
    "\n",
    "        # extract the useful (to me) data\n",
    "        author_steamid = review['author']['steamid']        # will automatically redirect to the profileURL if any\n",
    "        playtime_forever = review['author']['playtime_forever']\n",
    "        playtime_last_two_weeks = review['author']['playtime_last_two_weeks']\n",
    "        playtime_at_review_minutes = review['author']['playtime_at_review']\n",
    "        last_played = review['author']['last_played']\n",
    "\n",
    "        review_text = review['review']\n",
    "        voted_up = review['voted_up']\n",
    "        votes_up = review['votes_up']\n",
    "        votes_funny = review['votes_funny']\n",
    "        weighted_vote_score = review['weighted_vote_score']\n",
    "        steam_purchase = review['steam_purchase']\n",
    "        received_for_free = review['received_for_free']\n",
    "        written_during_early_access = review['written_during_early_access']\n",
    "\n",
    "        my_review_dict = {\n",
    "            'recommendationid': recommendation_id,\n",
    "            'author_steamid': author_steamid,\n",
    "            'playtime_at_review_minutes': playtime_at_review_minutes,\n",
    "            'playtime_forever_minutes': playtime_forever,\n",
    "            'playtime_last_two_weeks_minutes': playtime_last_two_weeks,\n",
    "            'last_played': last_played,\n",
    "\n",
    "            'review_text': review_text,\n",
    "            'timestamp_created': timestamp_created,\n",
    "            'timestamp_updated': timestamp_updated,\n",
    "\n",
    "            'voted_up': voted_up,\n",
    "            'votes_up': votes_up,\n",
    "            'votes_funny': votes_funny,\n",
    "            'weighted_vote_score': weighted_vote_score,\n",
    "            'steam_purchase': steam_purchase,\n",
    "            'received_for_free': received_for_free,\n",
    "            'written_during_early_access': written_during_early_access,\n",
    "        }\n",
    "\n",
    "        selected_reviews.append(my_review_dict)\n",
    "\n",
    "    # go to next page\n",
    "    try:\n",
    "        cursor = reviews_response['cursor']         # cursor field does not exist in the last page\n",
    "    except Exception as e:\n",
    "        cursor = ''\n",
    "\n",
    "    # no next page\n",
    "    # exit the loop\n",
    "    if not cursor:\n",
    "        print(\"Reached the end of all comments.\")\n",
    "        break\n",
    "    \n",
    "    # set the cursor object to move to next page to continue\n",
    "    params['cursor'] = cursor\n",
    "    print('To next page. Next page cursor:', cursor)\n"
   ]
  },
  {
   "cell_type": "code",
   "execution_count": 27,
   "metadata": {},
   "outputs": [
    {
     "data": {
      "text/plain": [
       "[]"
      ]
     },
     "execution_count": 27,
     "metadata": {},
     "output_type": "execute_result"
    }
   ],
   "source": [
    "selected_reviews[:10]"
   ]
  },
  {
   "cell_type": "code",
   "execution_count": 28,
   "metadata": {},
   "outputs": [
    {
     "data": {
      "text/plain": [
       "0"
      ]
     },
     "execution_count": 28,
     "metadata": {},
     "output_type": "execute_result"
    }
   ],
   "source": [
    "len(selected_reviews)"
   ]
  },
  {
   "cell_type": "code",
   "execution_count": 21,
   "metadata": {},
   "outputs": [
    {
     "ename": "NotADirectoryError",
     "evalue": "[WinError 267] The directory name is invalid: '3303470_Broken Sword - Shadow of the Templars: Reforged Soundtrack'",
     "output_type": "error",
     "traceback": [
      "\u001b[1;31m---------------------------------------------------------------------------\u001b[0m",
      "\u001b[1;31mNotADirectoryError\u001b[0m                        Traceback (most recent call last)",
      "Cell \u001b[1;32mIn[21], line 9\u001b[0m\n\u001b[0;32m      5\u001b[0m output_path \u001b[38;5;241m=\u001b[39m Path(\n\u001b[0;32m      6\u001b[0m     foldername, filename\n\u001b[0;32m      7\u001b[0m )\n\u001b[0;32m      8\u001b[0m \u001b[38;5;28;01mif\u001b[39;00m \u001b[38;5;129;01mnot\u001b[39;00m output_path\u001b[38;5;241m.\u001b[39mparent\u001b[38;5;241m.\u001b[39mexists():\n\u001b[1;32m----> 9\u001b[0m     output_path\u001b[38;5;241m.\u001b[39mparent\u001b[38;5;241m.\u001b[39mmkdir(parents\u001b[38;5;241m=\u001b[39m\u001b[38;5;28;01mTrue\u001b[39;00m)\n\u001b[0;32m     11\u001b[0m pickle\u001b[38;5;241m.\u001b[39mdump(selected_reviews, \u001b[38;5;28mopen\u001b[39m(output_path, \u001b[38;5;124m'\u001b[39m\u001b[38;5;124mwb\u001b[39m\u001b[38;5;124m'\u001b[39m))\n",
      "File \u001b[1;32ma:\\Conda\\envs\\tfgpu\\Lib\\pathlib.py:1312\u001b[0m, in \u001b[0;36mPath.mkdir\u001b[1;34m(self, mode, parents, exist_ok)\u001b[0m\n\u001b[0;32m   1308\u001b[0m \u001b[38;5;250m\u001b[39m\u001b[38;5;124;03m\"\"\"\u001b[39;00m\n\u001b[0;32m   1309\u001b[0m \u001b[38;5;124;03mCreate a new directory at this given path.\u001b[39;00m\n\u001b[0;32m   1310\u001b[0m \u001b[38;5;124;03m\"\"\"\u001b[39;00m\n\u001b[0;32m   1311\u001b[0m \u001b[38;5;28;01mtry\u001b[39;00m:\n\u001b[1;32m-> 1312\u001b[0m     os\u001b[38;5;241m.\u001b[39mmkdir(\u001b[38;5;28mself\u001b[39m, mode)\n\u001b[0;32m   1313\u001b[0m \u001b[38;5;28;01mexcept\u001b[39;00m \u001b[38;5;167;01mFileNotFoundError\u001b[39;00m:\n\u001b[0;32m   1314\u001b[0m     \u001b[38;5;28;01mif\u001b[39;00m \u001b[38;5;129;01mnot\u001b[39;00m parents \u001b[38;5;129;01mor\u001b[39;00m \u001b[38;5;28mself\u001b[39m\u001b[38;5;241m.\u001b[39mparent \u001b[38;5;241m==\u001b[39m \u001b[38;5;28mself\u001b[39m:\n",
      "\u001b[1;31mNotADirectoryError\u001b[0m: [WinError 267] The directory name is invalid: '3303470_Broken Sword - Shadow of the Templars: Reforged Soundtrack'"
     ]
    }
   ],
   "source": [
    "# save the selected reviews to a file\n",
    "\n",
    "foldername = f\"{review_appid}_{review_appname}\"\n",
    "filename = f\"{review_appid}_{review_appname}_reviews_{start_time.strftime('%Y%m%d-%H%M%S')}_{end_time.strftime('%Y%m%d-%H%M%S')}.pkl\"\n",
    "output_path = Path(\n",
    "    foldername, filename\n",
    ")\n",
    "if not output_path.parent.exists():\n",
    "    output_path.parent.mkdir(parents=True)\n",
    "\n",
    "pickle.dump(selected_reviews, open(output_path, 'wb'))"
   ]
  },
  {
   "cell_type": "markdown",
   "metadata": {},
   "source": [
    "## Read a review pickle object"
   ]
  },
  {
   "cell_type": "code",
   "execution_count": 10,
   "metadata": {},
   "outputs": [
    {
     "ename": "NameError",
     "evalue": "name 'start_time' is not defined",
     "output_type": "error",
     "traceback": [
      "\u001b[1;31m---------------------------------------------------------------------------\u001b[0m",
      "\u001b[1;31mNameError\u001b[0m                                 Traceback (most recent call last)",
      "Cell \u001b[1;32mIn[10], line 6\u001b[0m\n\u001b[0;32m      2\u001b[0m review_appid \u001b[38;5;241m=\u001b[39m \u001b[38;5;241m1245620\u001b[39m                                      \u001b[38;5;66;03m# the game appid on Steam\u001b[39;00m\n\u001b[0;32m      5\u001b[0m foldername \u001b[38;5;241m=\u001b[39m \u001b[38;5;124mf\u001b[39m\u001b[38;5;124m\"\u001b[39m\u001b[38;5;132;01m{\u001b[39;00mreview_appid\u001b[38;5;132;01m}\u001b[39;00m\u001b[38;5;124m_\u001b[39m\u001b[38;5;132;01m{\u001b[39;00mreview_appname\u001b[38;5;132;01m}\u001b[39;00m\u001b[38;5;124m\"\u001b[39m\n\u001b[1;32m----> 6\u001b[0m filename \u001b[38;5;241m=\u001b[39m \u001b[38;5;124mf\u001b[39m\u001b[38;5;124m\"\u001b[39m\u001b[38;5;132;01m{\u001b[39;00mreview_appid\u001b[38;5;132;01m}\u001b[39;00m\u001b[38;5;124m_\u001b[39m\u001b[38;5;132;01m{\u001b[39;00mreview_appname\u001b[38;5;132;01m}\u001b[39;00m\u001b[38;5;124m_reviews_\u001b[39m\u001b[38;5;132;01m{\u001b[39;00mstart_time\u001b[38;5;241m.\u001b[39mstrftime(\u001b[38;5;124m'\u001b[39m\u001b[38;5;124m%\u001b[39m\u001b[38;5;124mY\u001b[39m\u001b[38;5;124m%\u001b[39m\u001b[38;5;124mm\u001b[39m\u001b[38;5;132;01m%d\u001b[39;00m\u001b[38;5;124m-\u001b[39m\u001b[38;5;124m%\u001b[39m\u001b[38;5;124mH\u001b[39m\u001b[38;5;124m%\u001b[39m\u001b[38;5;124mM\u001b[39m\u001b[38;5;124m%\u001b[39m\u001b[38;5;124mS\u001b[39m\u001b[38;5;124m'\u001b[39m)\u001b[38;5;132;01m}\u001b[39;00m\u001b[38;5;124m_\u001b[39m\u001b[38;5;132;01m{\u001b[39;00mend_time\u001b[38;5;241m.\u001b[39mstrftime(\u001b[38;5;124m'\u001b[39m\u001b[38;5;124m%\u001b[39m\u001b[38;5;124mY\u001b[39m\u001b[38;5;124m%\u001b[39m\u001b[38;5;124mm\u001b[39m\u001b[38;5;132;01m%d\u001b[39;00m\u001b[38;5;124m-\u001b[39m\u001b[38;5;124m%\u001b[39m\u001b[38;5;124mH\u001b[39m\u001b[38;5;124m%\u001b[39m\u001b[38;5;124mM\u001b[39m\u001b[38;5;124m%\u001b[39m\u001b[38;5;124mS\u001b[39m\u001b[38;5;124m'\u001b[39m)\u001b[38;5;132;01m}\u001b[39;00m\u001b[38;5;124m.pkl\u001b[39m\u001b[38;5;124m\"\u001b[39m\n\u001b[0;32m      7\u001b[0m output_path \u001b[38;5;241m=\u001b[39m Path(\n\u001b[0;32m      8\u001b[0m     foldername, filename\n\u001b[0;32m      9\u001b[0m )\n\u001b[0;32m     11\u001b[0m \u001b[38;5;28;01mif\u001b[39;00m \u001b[38;5;129;01mnot\u001b[39;00m output_path\u001b[38;5;241m.\u001b[39mexists():\n",
      "\u001b[1;31mNameError\u001b[0m: name 'start_time' is not defined"
     ]
    }
   ],
   "source": [
    "review_appname = \"ELDEN RING\"                              # the game name\n",
    "review_appid = 1245620                                      # the game appid on Steam\n",
    "\n",
    "\n",
    "foldername = f\"{review_appid}_{review_appname}\"\n",
    "filename = f\"{review_appid}_{review_appname}_reviews_{start_time.strftime('%Y%m%d-%H%M%S')}_{end_time.strftime('%Y%m%d-%H%M%S')}.pkl\"\n",
    "output_path = Path(\n",
    "    foldername, filename\n",
    ")\n",
    "\n",
    "if not output_path.exists():\n",
    "    print(\"File not found.\")\n",
    "    exit()\n",
    "\n",
    "\n",
    "selected_reviews = pickle.load(open(output_path, 'rb'))"
   ]
  },
  {
   "cell_type": "code",
   "execution_count": 12,
   "metadata": {},
   "outputs": [
    {
     "data": {
      "text/plain": [
       "0"
      ]
     },
     "execution_count": 12,
     "metadata": {},
     "output_type": "execute_result"
    }
   ],
   "source": [
    "len(selected_reviews)"
   ]
  },
  {
   "cell_type": "code",
   "execution_count": 13,
   "metadata": {},
   "outputs": [
    {
     "ename": "IndexError",
     "evalue": "list index out of range",
     "output_type": "error",
     "traceback": [
      "\u001b[0;31m---------------------------------------------------------------------------\u001b[0m",
      "\u001b[0;31mIndexError\u001b[0m                                Traceback (most recent call last)",
      "Cell \u001b[0;32mIn[13], line 1\u001b[0m\n\u001b[0;32m----> 1\u001b[0m \u001b[43mselected_reviews\u001b[49m\u001b[43m[\u001b[49m\u001b[38;5;241;43m0\u001b[39;49m\u001b[43m]\u001b[49m\n",
      "\u001b[0;31mIndexError\u001b[0m: list index out of range"
     ]
    }
   ],
   "source": [
    "selected_reviews[0]"
   ]
  },
  {
   "cell_type": "code",
   "execution_count": null,
   "metadata": {},
   "outputs": [],
   "source": []
  }
 ],
 "metadata": {
  "kernelspec": {
   "display_name": "tfgpu",
   "language": "python",
   "name": "python3"
  },
  "language_info": {
   "codemirror_mode": {
    "name": "ipython",
    "version": 3
   },
   "file_extension": ".py",
   "mimetype": "text/x-python",
   "name": "python",
   "nbconvert_exporter": "python",
   "pygments_lexer": "ipython3",
   "version": "3.12.0"
  }
 },
 "nbformat": 4,
 "nbformat_minor": 2
}
